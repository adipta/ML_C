{
  "nbformat": 4,
  "nbformat_minor": 0,
  "metadata": {
    "colab": {
      "name": "MLC_B6_C1_Project_AdiptaRoy.ipynb",
      "provenance": [],
      "collapsed_sections": [],
      "authorship_tag": "ABX9TyNCMpRrIV/AxxrKkkuawSd2",
      "include_colab_link": true
    },
    "kernelspec": {
      "name": "python3",
      "display_name": "Python 3"
    }
  },
  "cells": [
    {
      "cell_type": "markdown",
      "metadata": {
        "id": "view-in-github",
        "colab_type": "text"
      },
      "source": [
        "<a href=\"https://colab.research.google.com/github/adipta/ML_C/blob/main/MLC_B6_C1_Project_AdiptaRoy.ipynb\" target=\"_parent\"><img src=\"https://colab.research.google.com/assets/colab-badge.svg\" alt=\"Open In Colab\"/></a>"
      ]
    },
    {
      "cell_type": "code",
      "metadata": {
        "id": "FqXIz1MzCe3B"
      },
      "source": [
        "import numpy as np\r\n",
        "import pandas as pd\r\n",
        "import matplotlib.pyplot as plt\r\n",
        "import seaborn as sns"
      ],
      "execution_count": null,
      "outputs": []
    },
    {
      "cell_type": "code",
      "metadata": {
        "id": "GJoZbNN1SXVc"
      },
      "source": [
        "inp_Q = pd.read_csv(\"https://stack-overflow-casestudy-datasets.s3.amazonaws.com/Questions.csv\", encoding='latin-1')\r\n"
      ],
      "execution_count": null,
      "outputs": []
    },
    {
      "cell_type": "code",
      "metadata": {
        "id": "aIqucksTH0Dz"
      },
      "source": [
        "inp_A = pd.read_csv(\"https://stack-overflow-casestudy-datasets.s3.amazonaws.com/Answers.csv\", encoding='latin-1')\r\n",
        "inp_T = pd.read_csv(\"https://stack-overflow-casestudy-datasets.s3.amazonaws.com/Tags.csv\", encoding='latin-1')\r\n",
        "inp_U = pd.read_csv(\"https://stack-overflow-casestudy-datasets.s3.amazonaws.com/Users.csv\", encoding='latin-1')"
      ],
      "execution_count": null,
      "outputs": []
    },
    {
      "cell_type": "code",
      "metadata": {
        "colab": {
          "base_uri": "https://localhost:8080/",
          "height": 195
        },
        "id": "P_MGyklG9a1F",
        "outputId": "5010a4f5-69a7-4e3e-d91f-377ff98b6619"
      },
      "source": [
        "inp_Q.head()\r\n"
      ],
      "execution_count": null,
      "outputs": [
        {
          "output_type": "execute_result",
          "data": {
            "text/html": [
              "<div>\n",
              "<style scoped>\n",
              "    .dataframe tbody tr th:only-of-type {\n",
              "        vertical-align: middle;\n",
              "    }\n",
              "\n",
              "    .dataframe tbody tr th {\n",
              "        vertical-align: top;\n",
              "    }\n",
              "\n",
              "    .dataframe thead th {\n",
              "        text-align: right;\n",
              "    }\n",
              "</style>\n",
              "<table border=\"1\" class=\"dataframe\">\n",
              "  <thead>\n",
              "    <tr style=\"text-align: right;\">\n",
              "      <th></th>\n",
              "      <th>Id</th>\n",
              "      <th>OwnerUserId</th>\n",
              "      <th>CreationDate</th>\n",
              "      <th>ClosedDate</th>\n",
              "      <th>Score</th>\n",
              "      <th>Title</th>\n",
              "      <th>Body</th>\n",
              "    </tr>\n",
              "  </thead>\n",
              "  <tbody>\n",
              "    <tr>\n",
              "      <th>0</th>\n",
              "      <td>80</td>\n",
              "      <td>26.0</td>\n",
              "      <td>2008-08-01T13:57:07Z</td>\n",
              "      <td>NaN</td>\n",
              "      <td>26</td>\n",
              "      <td>SQLStatement.execute() - multiple queries in o...</td>\n",
              "      <td>&lt;p&gt;I've written a database generation script i...</td>\n",
              "    </tr>\n",
              "    <tr>\n",
              "      <th>1</th>\n",
              "      <td>90</td>\n",
              "      <td>58.0</td>\n",
              "      <td>2008-08-01T14:41:24Z</td>\n",
              "      <td>2012-12-26T03:45:49Z</td>\n",
              "      <td>144</td>\n",
              "      <td>Good branching and merging tutorials for Torto...</td>\n",
              "      <td>&lt;p&gt;Are there any really good tutorials explain...</td>\n",
              "    </tr>\n",
              "    <tr>\n",
              "      <th>2</th>\n",
              "      <td>120</td>\n",
              "      <td>83.0</td>\n",
              "      <td>2008-08-01T15:50:08Z</td>\n",
              "      <td>NaN</td>\n",
              "      <td>21</td>\n",
              "      <td>ASP.NET Site Maps</td>\n",
              "      <td>&lt;p&gt;Has anyone got experience creating &lt;strong&gt;...</td>\n",
              "    </tr>\n",
              "    <tr>\n",
              "      <th>3</th>\n",
              "      <td>180</td>\n",
              "      <td>2089740.0</td>\n",
              "      <td>2008-08-01T18:42:19Z</td>\n",
              "      <td>NaN</td>\n",
              "      <td>53</td>\n",
              "      <td>Function for creating color wheels</td>\n",
              "      <td>&lt;p&gt;This is something I've pseudo-solved many t...</td>\n",
              "    </tr>\n",
              "    <tr>\n",
              "      <th>4</th>\n",
              "      <td>260</td>\n",
              "      <td>91.0</td>\n",
              "      <td>2008-08-01T23:22:08Z</td>\n",
              "      <td>NaN</td>\n",
              "      <td>49</td>\n",
              "      <td>Adding scripting functionality to .NET applica...</td>\n",
              "      <td>&lt;p&gt;I have a little game written in C#. It uses...</td>\n",
              "    </tr>\n",
              "  </tbody>\n",
              "</table>\n",
              "</div>"
            ],
            "text/plain": [
              "    Id  ...                                               Body\n",
              "0   80  ...  <p>I've written a database generation script i...\n",
              "1   90  ...  <p>Are there any really good tutorials explain...\n",
              "2  120  ...  <p>Has anyone got experience creating <strong>...\n",
              "3  180  ...  <p>This is something I've pseudo-solved many t...\n",
              "4  260  ...  <p>I have a little game written in C#. It uses...\n",
              "\n",
              "[5 rows x 7 columns]"
            ]
          },
          "metadata": {
            "tags": []
          },
          "execution_count": 4
        }
      ]
    },
    {
      "cell_type": "code",
      "metadata": {
        "colab": {
          "base_uri": "https://localhost:8080/",
          "height": 195
        },
        "id": "SLZYiDs8-l7W",
        "outputId": "7c833c4f-a46f-4b1f-cadd-cbfc4cedc6ba"
      },
      "source": [
        "inp_A.head()"
      ],
      "execution_count": null,
      "outputs": [
        {
          "output_type": "execute_result",
          "data": {
            "text/html": [
              "<div>\n",
              "<style scoped>\n",
              "    .dataframe tbody tr th:only-of-type {\n",
              "        vertical-align: middle;\n",
              "    }\n",
              "\n",
              "    .dataframe tbody tr th {\n",
              "        vertical-align: top;\n",
              "    }\n",
              "\n",
              "    .dataframe thead th {\n",
              "        text-align: right;\n",
              "    }\n",
              "</style>\n",
              "<table border=\"1\" class=\"dataframe\">\n",
              "  <thead>\n",
              "    <tr style=\"text-align: right;\">\n",
              "      <th></th>\n",
              "      <th>Id</th>\n",
              "      <th>OwnerUserId</th>\n",
              "      <th>CreationDate</th>\n",
              "      <th>ParentId</th>\n",
              "      <th>Score</th>\n",
              "      <th>Body</th>\n",
              "    </tr>\n",
              "  </thead>\n",
              "  <tbody>\n",
              "    <tr>\n",
              "      <th>0</th>\n",
              "      <td>92</td>\n",
              "      <td>61.0</td>\n",
              "      <td>2008-08-01T14:45:37Z</td>\n",
              "      <td>90</td>\n",
              "      <td>13</td>\n",
              "      <td>&lt;p&gt;&lt;a href=\"http://svnbook.red-bean.com/\"&gt;Vers...</td>\n",
              "    </tr>\n",
              "    <tr>\n",
              "      <th>1</th>\n",
              "      <td>124</td>\n",
              "      <td>26.0</td>\n",
              "      <td>2008-08-01T16:09:47Z</td>\n",
              "      <td>80</td>\n",
              "      <td>12</td>\n",
              "      <td>&lt;p&gt;I wound up using this. It is a kind of a ha...</td>\n",
              "    </tr>\n",
              "    <tr>\n",
              "      <th>2</th>\n",
              "      <td>199</td>\n",
              "      <td>50.0</td>\n",
              "      <td>2008-08-01T19:36:46Z</td>\n",
              "      <td>180</td>\n",
              "      <td>1</td>\n",
              "      <td>&lt;p&gt;I've read somewhere the human eye can't dis...</td>\n",
              "    </tr>\n",
              "    <tr>\n",
              "      <th>3</th>\n",
              "      <td>269</td>\n",
              "      <td>91.0</td>\n",
              "      <td>2008-08-01T23:49:57Z</td>\n",
              "      <td>260</td>\n",
              "      <td>4</td>\n",
              "      <td>&lt;p&gt;Yes, I thought about that, but I soon figur...</td>\n",
              "    </tr>\n",
              "    <tr>\n",
              "      <th>4</th>\n",
              "      <td>307</td>\n",
              "      <td>49.0</td>\n",
              "      <td>2008-08-02T01:49:46Z</td>\n",
              "      <td>260</td>\n",
              "      <td>28</td>\n",
              "      <td>&lt;p&gt;&lt;a href=\"http://www.codeproject.com/Article...</td>\n",
              "    </tr>\n",
              "  </tbody>\n",
              "</table>\n",
              "</div>"
            ],
            "text/plain": [
              "    Id  OwnerUserId  ... Score                                               Body\n",
              "0   92         61.0  ...    13  <p><a href=\"http://svnbook.red-bean.com/\">Vers...\n",
              "1  124         26.0  ...    12  <p>I wound up using this. It is a kind of a ha...\n",
              "2  199         50.0  ...     1  <p>I've read somewhere the human eye can't dis...\n",
              "3  269         91.0  ...     4  <p>Yes, I thought about that, but I soon figur...\n",
              "4  307         49.0  ...    28  <p><a href=\"http://www.codeproject.com/Article...\n",
              "\n",
              "[5 rows x 6 columns]"
            ]
          },
          "metadata": {
            "tags": []
          },
          "execution_count": 5
        }
      ]
    },
    {
      "cell_type": "code",
      "metadata": {
        "colab": {
          "base_uri": "https://localhost:8080/",
          "height": 195
        },
        "id": "XwCr6HwP-pDW",
        "outputId": "8328ed23-0842-4744-d870-2aede5b42090"
      },
      "source": [
        "inp_U.head()"
      ],
      "execution_count": null,
      "outputs": [
        {
          "output_type": "execute_result",
          "data": {
            "text/html": [
              "<div>\n",
              "<style scoped>\n",
              "    .dataframe tbody tr th:only-of-type {\n",
              "        vertical-align: middle;\n",
              "    }\n",
              "\n",
              "    .dataframe tbody tr th {\n",
              "        vertical-align: top;\n",
              "    }\n",
              "\n",
              "    .dataframe thead th {\n",
              "        text-align: right;\n",
              "    }\n",
              "</style>\n",
              "<table border=\"1\" class=\"dataframe\">\n",
              "  <thead>\n",
              "    <tr style=\"text-align: right;\">\n",
              "      <th></th>\n",
              "      <th>Unnamed: 0</th>\n",
              "      <th>id</th>\n",
              "      <th>display_name</th>\n",
              "      <th>creation_date</th>\n",
              "      <th>last_access_date</th>\n",
              "      <th>reputation</th>\n",
              "      <th>up_votes</th>\n",
              "      <th>down_votes</th>\n",
              "      <th>views</th>\n",
              "    </tr>\n",
              "  </thead>\n",
              "  <tbody>\n",
              "    <tr>\n",
              "      <th>0</th>\n",
              "      <td>0</td>\n",
              "      <td>26</td>\n",
              "      <td>Shawn</td>\n",
              "      <td>2008-08-01 12:18:14.52 UTC</td>\n",
              "      <td>2018-04-11 04:40:35.66 UTC</td>\n",
              "      <td>11820</td>\n",
              "      <td>565</td>\n",
              "      <td>67</td>\n",
              "      <td>3547</td>\n",
              "    </tr>\n",
              "    <tr>\n",
              "      <th>1</th>\n",
              "      <td>1</td>\n",
              "      <td>26</td>\n",
              "      <td>Shawn</td>\n",
              "      <td>2008-08-01 12:18:14.52 UTC</td>\n",
              "      <td>2018-04-11 04:40:35.66 UTC</td>\n",
              "      <td>11820</td>\n",
              "      <td>565</td>\n",
              "      <td>67</td>\n",
              "      <td>3547</td>\n",
              "    </tr>\n",
              "    <tr>\n",
              "      <th>2</th>\n",
              "      <td>2</td>\n",
              "      <td>26</td>\n",
              "      <td>Shawn</td>\n",
              "      <td>2008-08-01 12:18:14.52 UTC</td>\n",
              "      <td>2018-04-11 04:40:35.66 UTC</td>\n",
              "      <td>11820</td>\n",
              "      <td>565</td>\n",
              "      <td>67</td>\n",
              "      <td>3547</td>\n",
              "    </tr>\n",
              "    <tr>\n",
              "      <th>3</th>\n",
              "      <td>3</td>\n",
              "      <td>26</td>\n",
              "      <td>Shawn</td>\n",
              "      <td>2008-08-01 12:18:14.52 UTC</td>\n",
              "      <td>2018-04-11 04:40:35.66 UTC</td>\n",
              "      <td>11820</td>\n",
              "      <td>565</td>\n",
              "      <td>67</td>\n",
              "      <td>3547</td>\n",
              "    </tr>\n",
              "    <tr>\n",
              "      <th>4</th>\n",
              "      <td>4</td>\n",
              "      <td>26</td>\n",
              "      <td>Shawn</td>\n",
              "      <td>2008-08-01 12:18:14.52 UTC</td>\n",
              "      <td>2018-04-11 04:40:35.66 UTC</td>\n",
              "      <td>11820</td>\n",
              "      <td>565</td>\n",
              "      <td>67</td>\n",
              "      <td>3547</td>\n",
              "    </tr>\n",
              "  </tbody>\n",
              "</table>\n",
              "</div>"
            ],
            "text/plain": [
              "   Unnamed: 0  id display_name  ... up_votes down_votes  views\n",
              "0           0  26        Shawn  ...      565         67   3547\n",
              "1           1  26        Shawn  ...      565         67   3547\n",
              "2           2  26        Shawn  ...      565         67   3547\n",
              "3           3  26        Shawn  ...      565         67   3547\n",
              "4           4  26        Shawn  ...      565         67   3547\n",
              "\n",
              "[5 rows x 9 columns]"
            ]
          },
          "metadata": {
            "tags": []
          },
          "execution_count": 6
        }
      ]
    },
    {
      "cell_type": "code",
      "metadata": {
        "colab": {
          "base_uri": "https://localhost:8080/",
          "height": 195
        },
        "id": "fCJ_hwEyejGk",
        "outputId": "1482af86-6340-45db-bf5a-b315fe22172c"
      },
      "source": [
        "inp_T.head()"
      ],
      "execution_count": null,
      "outputs": [
        {
          "output_type": "execute_result",
          "data": {
            "text/html": [
              "<div>\n",
              "<style scoped>\n",
              "    .dataframe tbody tr th:only-of-type {\n",
              "        vertical-align: middle;\n",
              "    }\n",
              "\n",
              "    .dataframe tbody tr th {\n",
              "        vertical-align: top;\n",
              "    }\n",
              "\n",
              "    .dataframe thead th {\n",
              "        text-align: right;\n",
              "    }\n",
              "</style>\n",
              "<table border=\"1\" class=\"dataframe\">\n",
              "  <thead>\n",
              "    <tr style=\"text-align: right;\">\n",
              "      <th></th>\n",
              "      <th>Id</th>\n",
              "      <th>Tag</th>\n",
              "    </tr>\n",
              "  </thead>\n",
              "  <tbody>\n",
              "    <tr>\n",
              "      <th>0</th>\n",
              "      <td>80</td>\n",
              "      <td>flex</td>\n",
              "    </tr>\n",
              "    <tr>\n",
              "      <th>1</th>\n",
              "      <td>80</td>\n",
              "      <td>actionscript-3</td>\n",
              "    </tr>\n",
              "    <tr>\n",
              "      <th>2</th>\n",
              "      <td>80</td>\n",
              "      <td>air</td>\n",
              "    </tr>\n",
              "    <tr>\n",
              "      <th>3</th>\n",
              "      <td>90</td>\n",
              "      <td>svn</td>\n",
              "    </tr>\n",
              "    <tr>\n",
              "      <th>4</th>\n",
              "      <td>90</td>\n",
              "      <td>tortoisesvn</td>\n",
              "    </tr>\n",
              "  </tbody>\n",
              "</table>\n",
              "</div>"
            ],
            "text/plain": [
              "   Id             Tag\n",
              "0  80            flex\n",
              "1  80  actionscript-3\n",
              "2  80             air\n",
              "3  90             svn\n",
              "4  90     tortoisesvn"
            ]
          },
          "metadata": {
            "tags": []
          },
          "execution_count": 7
        }
      ]
    },
    {
      "cell_type": "code",
      "metadata": {
        "colab": {
          "base_uri": "https://localhost:8080/",
          "height": 195
        },
        "id": "7vnRqvIOZu9j",
        "outputId": "a11f5bbc-2b24-4113-c475-a410c973ce5d"
      },
      "source": [
        "## Assigning Tag to questions \r\n",
        "DataSc_Val=['python', 'r', 'matlab', 'sas', 'excel', 'sql']\r\n",
        "inp_QT_DataSc = inp_Q.set_index('Id').join(inp_T.set_index('Id')).query(\"Tag in ['python', 'r', 'matlab', 'sas', 'excel', 'sql']\") ## Finding the Questions that are related to Data Sc\r\n",
        "inp_QT_DataSc = inp_QT_DataSc.reset_index()\r\n",
        "inp_QT_DataSc.rename(columns={\"Id\":\"QId\"}, inplace=True)\r\n",
        "inp_QT_DataSc.head()"
      ],
      "execution_count": null,
      "outputs": [
        {
          "output_type": "execute_result",
          "data": {
            "text/html": [
              "<div>\n",
              "<style scoped>\n",
              "    .dataframe tbody tr th:only-of-type {\n",
              "        vertical-align: middle;\n",
              "    }\n",
              "\n",
              "    .dataframe tbody tr th {\n",
              "        vertical-align: top;\n",
              "    }\n",
              "\n",
              "    .dataframe thead th {\n",
              "        text-align: right;\n",
              "    }\n",
              "</style>\n",
              "<table border=\"1\" class=\"dataframe\">\n",
              "  <thead>\n",
              "    <tr style=\"text-align: right;\">\n",
              "      <th></th>\n",
              "      <th>QId</th>\n",
              "      <th>OwnerUserId</th>\n",
              "      <th>CreationDate</th>\n",
              "      <th>ClosedDate</th>\n",
              "      <th>Score</th>\n",
              "      <th>Title</th>\n",
              "      <th>Body</th>\n",
              "      <th>Tag</th>\n",
              "    </tr>\n",
              "  </thead>\n",
              "  <tbody>\n",
              "    <tr>\n",
              "      <th>0</th>\n",
              "      <td>120</td>\n",
              "      <td>83.0</td>\n",
              "      <td>2008-08-01T15:50:08Z</td>\n",
              "      <td>NaN</td>\n",
              "      <td>21</td>\n",
              "      <td>ASP.NET Site Maps</td>\n",
              "      <td>&lt;p&gt;Has anyone got experience creating &lt;strong&gt;...</td>\n",
              "      <td>sql</td>\n",
              "    </tr>\n",
              "    <tr>\n",
              "      <th>1</th>\n",
              "      <td>1970</td>\n",
              "      <td>116.0</td>\n",
              "      <td>2008-08-05T06:39:31Z</td>\n",
              "      <td>NaN</td>\n",
              "      <td>10</td>\n",
              "      <td>What language do you use for PostgreSQL trigge...</td>\n",
              "      <td>&lt;p&gt;PostgreSQL is interesting in that it suppor...</td>\n",
              "      <td>sql</td>\n",
              "    </tr>\n",
              "    <tr>\n",
              "      <th>2</th>\n",
              "      <td>2120</td>\n",
              "      <td>383.0</td>\n",
              "      <td>2008-08-05T11:49:11Z</td>\n",
              "      <td>NaN</td>\n",
              "      <td>77</td>\n",
              "      <td>Convert HashBytes to VarChar</td>\n",
              "      <td>&lt;p&gt;I want to get the MD5 Hash of a string valu...</td>\n",
              "      <td>sql</td>\n",
              "    </tr>\n",
              "    <tr>\n",
              "      <th>3</th>\n",
              "      <td>2840</td>\n",
              "      <td>383.0</td>\n",
              "      <td>2008-08-05T20:57:00Z</td>\n",
              "      <td>NaN</td>\n",
              "      <td>32</td>\n",
              "      <td>Paging SQL Server 2005 Results</td>\n",
              "      <td>&lt;p&gt;How do I page results in SQL Server 2005?&lt;/...</td>\n",
              "      <td>sql</td>\n",
              "    </tr>\n",
              "    <tr>\n",
              "      <th>4</th>\n",
              "      <td>4110</td>\n",
              "      <td>369.0</td>\n",
              "      <td>2008-08-06T23:19:50Z</td>\n",
              "      <td>2014-12-30T11:43:01Z</td>\n",
              "      <td>7</td>\n",
              "      <td>What program can I use to generate diagrams of...</td>\n",
              "      <td>&lt;p&gt;I've been tasked with redesigning part of a...</td>\n",
              "      <td>sql</td>\n",
              "    </tr>\n",
              "  </tbody>\n",
              "</table>\n",
              "</div>"
            ],
            "text/plain": [
              "    QId  OwnerUserId  ...                                               Body  Tag\n",
              "0   120         83.0  ...  <p>Has anyone got experience creating <strong>...  sql\n",
              "1  1970        116.0  ...  <p>PostgreSQL is interesting in that it suppor...  sql\n",
              "2  2120        383.0  ...  <p>I want to get the MD5 Hash of a string valu...  sql\n",
              "3  2840        383.0  ...  <p>How do I page results in SQL Server 2005?</...  sql\n",
              "4  4110        369.0  ...  <p>I've been tasked with redesigning part of a...  sql\n",
              "\n",
              "[5 rows x 8 columns]"
            ]
          },
          "metadata": {
            "tags": []
          },
          "execution_count": 8
        }
      ]
    },
    {
      "cell_type": "code",
      "metadata": {
        "colab": {
          "base_uri": "https://localhost:8080/",
          "height": 195
        },
        "id": "S3Q40eASIXyA",
        "outputId": "c14ec9cd-ec31-46cb-b963-8a9debe4a413"
      },
      "source": [
        "inp_U_tmp = inp_U.drop([\"Unnamed: 0\", \"creation_date\", \"last_access_date\"], axis=1) ## Dropping the columns not needed \r\n",
        "inp_U_tmp.head()\r\n"
      ],
      "execution_count": null,
      "outputs": [
        {
          "output_type": "execute_result",
          "data": {
            "text/html": [
              "<div>\n",
              "<style scoped>\n",
              "    .dataframe tbody tr th:only-of-type {\n",
              "        vertical-align: middle;\n",
              "    }\n",
              "\n",
              "    .dataframe tbody tr th {\n",
              "        vertical-align: top;\n",
              "    }\n",
              "\n",
              "    .dataframe thead th {\n",
              "        text-align: right;\n",
              "    }\n",
              "</style>\n",
              "<table border=\"1\" class=\"dataframe\">\n",
              "  <thead>\n",
              "    <tr style=\"text-align: right;\">\n",
              "      <th></th>\n",
              "      <th>id</th>\n",
              "      <th>display_name</th>\n",
              "      <th>reputation</th>\n",
              "      <th>up_votes</th>\n",
              "      <th>down_votes</th>\n",
              "      <th>views</th>\n",
              "    </tr>\n",
              "  </thead>\n",
              "  <tbody>\n",
              "    <tr>\n",
              "      <th>0</th>\n",
              "      <td>26</td>\n",
              "      <td>Shawn</td>\n",
              "      <td>11820</td>\n",
              "      <td>565</td>\n",
              "      <td>67</td>\n",
              "      <td>3547</td>\n",
              "    </tr>\n",
              "    <tr>\n",
              "      <th>1</th>\n",
              "      <td>26</td>\n",
              "      <td>Shawn</td>\n",
              "      <td>11820</td>\n",
              "      <td>565</td>\n",
              "      <td>67</td>\n",
              "      <td>3547</td>\n",
              "    </tr>\n",
              "    <tr>\n",
              "      <th>2</th>\n",
              "      <td>26</td>\n",
              "      <td>Shawn</td>\n",
              "      <td>11820</td>\n",
              "      <td>565</td>\n",
              "      <td>67</td>\n",
              "      <td>3547</td>\n",
              "    </tr>\n",
              "    <tr>\n",
              "      <th>3</th>\n",
              "      <td>26</td>\n",
              "      <td>Shawn</td>\n",
              "      <td>11820</td>\n",
              "      <td>565</td>\n",
              "      <td>67</td>\n",
              "      <td>3547</td>\n",
              "    </tr>\n",
              "    <tr>\n",
              "      <th>4</th>\n",
              "      <td>26</td>\n",
              "      <td>Shawn</td>\n",
              "      <td>11820</td>\n",
              "      <td>565</td>\n",
              "      <td>67</td>\n",
              "      <td>3547</td>\n",
              "    </tr>\n",
              "  </tbody>\n",
              "</table>\n",
              "</div>"
            ],
            "text/plain": [
              "   id display_name  reputation  up_votes  down_votes  views\n",
              "0  26        Shawn       11820       565          67   3547\n",
              "1  26        Shawn       11820       565          67   3547\n",
              "2  26        Shawn       11820       565          67   3547\n",
              "3  26        Shawn       11820       565          67   3547\n",
              "4  26        Shawn       11820       565          67   3547"
            ]
          },
          "metadata": {
            "tags": []
          },
          "execution_count": 9
        }
      ]
    },
    {
      "cell_type": "code",
      "metadata": {
        "colab": {
          "base_uri": "https://localhost:8080/"
        },
        "id": "efPM2Pmycitn",
        "outputId": "ff3d5457-2e40-4f7b-c7d0-27363cabb882"
      },
      "source": [
        "inp_U_tmp.count()"
      ],
      "execution_count": null,
      "outputs": [
        {
          "output_type": "execute_result",
          "data": {
            "text/plain": [
              "id              1990480\n",
              "display_name    1990344\n",
              "reputation      1990480\n",
              "up_votes        1990480\n",
              "down_votes      1990480\n",
              "views           1990480\n",
              "dtype: int64"
            ]
          },
          "metadata": {
            "tags": []
          },
          "execution_count": 10
        }
      ]
    },
    {
      "cell_type": "code",
      "metadata": {
        "id": "gIKC4NgniauM"
      },
      "source": [
        "inp_Uunq = inp_U_tmp.drop_duplicates()   ## Dropping duplicates"
      ],
      "execution_count": null,
      "outputs": []
    },
    {
      "cell_type": "code",
      "metadata": {
        "colab": {
          "base_uri": "https://localhost:8080/",
          "height": 402
        },
        "id": "1INh5ckHoT6t",
        "outputId": "04cb418c-2337-4592-9ca6-8d3089904f34"
      },
      "source": [
        "inp_Uunq.head(-1000) ## Unique user list"
      ],
      "execution_count": null,
      "outputs": [
        {
          "output_type": "execute_result",
          "data": {
            "text/html": [
              "<div>\n",
              "<style scoped>\n",
              "    .dataframe tbody tr th:only-of-type {\n",
              "        vertical-align: middle;\n",
              "    }\n",
              "\n",
              "    .dataframe tbody tr th {\n",
              "        vertical-align: top;\n",
              "    }\n",
              "\n",
              "    .dataframe thead th {\n",
              "        text-align: right;\n",
              "    }\n",
              "</style>\n",
              "<table border=\"1\" class=\"dataframe\">\n",
              "  <thead>\n",
              "    <tr style=\"text-align: right;\">\n",
              "      <th></th>\n",
              "      <th>id</th>\n",
              "      <th>display_name</th>\n",
              "      <th>reputation</th>\n",
              "      <th>up_votes</th>\n",
              "      <th>down_votes</th>\n",
              "      <th>views</th>\n",
              "    </tr>\n",
              "  </thead>\n",
              "  <tbody>\n",
              "    <tr>\n",
              "      <th>0</th>\n",
              "      <td>26</td>\n",
              "      <td>Shawn</td>\n",
              "      <td>11820</td>\n",
              "      <td>565</td>\n",
              "      <td>67</td>\n",
              "      <td>3547</td>\n",
              "    </tr>\n",
              "    <tr>\n",
              "      <th>27</th>\n",
              "      <td>1109</td>\n",
              "      <td>Theo</td>\n",
              "      <td>116072</td>\n",
              "      <td>457</td>\n",
              "      <td>136</td>\n",
              "      <td>6905</td>\n",
              "    </tr>\n",
              "    <tr>\n",
              "      <th>85</th>\n",
              "      <td>364174</td>\n",
              "      <td>stats</td>\n",
              "      <td>325</td>\n",
              "      <td>25</td>\n",
              "      <td>1</td>\n",
              "      <td>60</td>\n",
              "    </tr>\n",
              "    <tr>\n",
              "      <th>87</th>\n",
              "      <td>61</td>\n",
              "      <td>Bernard</td>\n",
              "      <td>22779</td>\n",
              "      <td>1321</td>\n",
              "      <td>219</td>\n",
              "      <td>1731</td>\n",
              "    </tr>\n",
              "    <tr>\n",
              "      <th>97</th>\n",
              "      <td>20709</td>\n",
              "      <td>Black Horus</td>\n",
              "      <td>978</td>\n",
              "      <td>73</td>\n",
              "      <td>2</td>\n",
              "      <td>96</td>\n",
              "    </tr>\n",
              "    <tr>\n",
              "      <th>...</th>\n",
              "      <td>...</td>\n",
              "      <td>...</td>\n",
              "      <td>...</td>\n",
              "      <td>...</td>\n",
              "      <td>...</td>\n",
              "      <td>...</td>\n",
              "    </tr>\n",
              "    <tr>\n",
              "      <th>1989318</th>\n",
              "      <td>5126479</td>\n",
              "      <td>Engineer</td>\n",
              "      <td>191</td>\n",
              "      <td>12</td>\n",
              "      <td>0</td>\n",
              "      <td>23</td>\n",
              "    </tr>\n",
              "    <tr>\n",
              "      <th>1989319</th>\n",
              "      <td>2715327</td>\n",
              "      <td>Samir Nabil</td>\n",
              "      <td>222</td>\n",
              "      <td>25</td>\n",
              "      <td>0</td>\n",
              "      <td>33</td>\n",
              "    </tr>\n",
              "    <tr>\n",
              "      <th>1989320</th>\n",
              "      <td>6794918</td>\n",
              "      <td>Yash ajabiya</td>\n",
              "      <td>126</td>\n",
              "      <td>3</td>\n",
              "      <td>0</td>\n",
              "      <td>41</td>\n",
              "    </tr>\n",
              "    <tr>\n",
              "      <th>1989325</th>\n",
              "      <td>6919126</td>\n",
              "      <td>TrumpSavesLives</td>\n",
              "      <td>6</td>\n",
              "      <td>0</td>\n",
              "      <td>0</td>\n",
              "      <td>6</td>\n",
              "    </tr>\n",
              "    <tr>\n",
              "      <th>1989326</th>\n",
              "      <td>6477545</td>\n",
              "      <td>RJV</td>\n",
              "      <td>157</td>\n",
              "      <td>48</td>\n",
              "      <td>4</td>\n",
              "      <td>33</td>\n",
              "    </tr>\n",
              "  </tbody>\n",
              "</table>\n",
              "<p>464460 rows × 6 columns</p>\n",
              "</div>"
            ],
            "text/plain": [
              "              id     display_name  reputation  up_votes  down_votes  views\n",
              "0             26            Shawn       11820       565          67   3547\n",
              "27          1109             Theo      116072       457         136   6905\n",
              "85        364174            stats         325        25           1     60\n",
              "87            61          Bernard       22779      1321         219   1731\n",
              "97         20709      Black Horus         978        73           2     96\n",
              "...          ...              ...         ...       ...         ...    ...\n",
              "1989318  5126479         Engineer         191        12           0     23\n",
              "1989319  2715327      Samir Nabil         222        25           0     33\n",
              "1989320  6794918     Yash ajabiya         126         3           0     41\n",
              "1989325  6919126  TrumpSavesLives           6         0           0      6\n",
              "1989326  6477545              RJV         157        48           4     33\n",
              "\n",
              "[464460 rows x 6 columns]"
            ]
          },
          "metadata": {
            "tags": []
          },
          "execution_count": 12
        }
      ]
    },
    {
      "cell_type": "code",
      "metadata": {
        "colab": {
          "base_uri": "https://localhost:8080/"
        },
        "id": "1WL2sUECobzH",
        "outputId": "0b856d98-6448-4541-a647-d2fc424d24f4"
      },
      "source": [
        "inp_Uunq.count()"
      ],
      "execution_count": null,
      "outputs": [
        {
          "output_type": "execute_result",
          "data": {
            "text/plain": [
              "id              465460\n",
              "display_name    465436\n",
              "reputation      465460\n",
              "up_votes        465460\n",
              "down_votes      465460\n",
              "views           465460\n",
              "dtype: int64"
            ]
          },
          "metadata": {
            "tags": []
          },
          "execution_count": 13
        }
      ]
    },
    {
      "cell_type": "code",
      "metadata": {
        "id": "a4jM8RWVpWVi"
      },
      "source": [
        "inp_QTU_DataSc = pd.merge(left=inp_QT_DataSc,right=inp_Uunq, how='left', left_on='OwnerUserId', right_on='id') ## Merging the data of users to the Question-Tag merged dataset\r\n"
      ],
      "execution_count": null,
      "outputs": []
    },
    {
      "cell_type": "code",
      "metadata": {
        "colab": {
          "base_uri": "https://localhost:8080/"
        },
        "id": "6if8SgiQr5IP",
        "outputId": "e17491f6-aeb0-4eb7-e59b-340d38bf3c45"
      },
      "source": [
        "inp_QTU_DataSc.info()"
      ],
      "execution_count": null,
      "outputs": [
        {
          "output_type": "stream",
          "text": [
            "<class 'pandas.core.frame.DataFrame'>\n",
            "Int64Index: 133660 entries, 0 to 133659\n",
            "Data columns (total 14 columns):\n",
            " #   Column        Non-Null Count   Dtype  \n",
            "---  ------        --------------   -----  \n",
            " 0   QId           133660 non-null  int64  \n",
            " 1   OwnerUserId   132280 non-null  float64\n",
            " 2   CreationDate  133660 non-null  object \n",
            " 3   ClosedDate    7063 non-null    object \n",
            " 4   Score         133660 non-null  int64  \n",
            " 5   Title         133660 non-null  object \n",
            " 6   Body          133660 non-null  object \n",
            " 7   Tag           133660 non-null  object \n",
            " 8   id            53617 non-null   float64\n",
            " 9   display_name  53608 non-null   object \n",
            " 10  reputation    53617 non-null   float64\n",
            " 11  up_votes      53617 non-null   float64\n",
            " 12  down_votes    53617 non-null   float64\n",
            " 13  views         53617 non-null   float64\n",
            "dtypes: float64(6), int64(2), object(6)\n",
            "memory usage: 15.3+ MB\n"
          ],
          "name": "stdout"
        }
      ]
    },
    {
      "cell_type": "code",
      "metadata": {
        "colab": {
          "base_uri": "https://localhost:8080/",
          "height": 140
        },
        "id": "yxRtLkIdr8Dd",
        "outputId": "98705d0c-254f-4587-d976-720f4880ab8f"
      },
      "source": [
        "inp_QTU_DataSc.head(2)"
      ],
      "execution_count": null,
      "outputs": [
        {
          "output_type": "execute_result",
          "data": {
            "text/html": [
              "<div>\n",
              "<style scoped>\n",
              "    .dataframe tbody tr th:only-of-type {\n",
              "        vertical-align: middle;\n",
              "    }\n",
              "\n",
              "    .dataframe tbody tr th {\n",
              "        vertical-align: top;\n",
              "    }\n",
              "\n",
              "    .dataframe thead th {\n",
              "        text-align: right;\n",
              "    }\n",
              "</style>\n",
              "<table border=\"1\" class=\"dataframe\">\n",
              "  <thead>\n",
              "    <tr style=\"text-align: right;\">\n",
              "      <th></th>\n",
              "      <th>QId</th>\n",
              "      <th>OwnerUserId</th>\n",
              "      <th>CreationDate</th>\n",
              "      <th>ClosedDate</th>\n",
              "      <th>Score</th>\n",
              "      <th>Title</th>\n",
              "      <th>Body</th>\n",
              "      <th>Tag</th>\n",
              "      <th>id</th>\n",
              "      <th>display_name</th>\n",
              "      <th>reputation</th>\n",
              "      <th>up_votes</th>\n",
              "      <th>down_votes</th>\n",
              "      <th>views</th>\n",
              "    </tr>\n",
              "  </thead>\n",
              "  <tbody>\n",
              "    <tr>\n",
              "      <th>0</th>\n",
              "      <td>120</td>\n",
              "      <td>83.0</td>\n",
              "      <td>2008-08-01T15:50:08Z</td>\n",
              "      <td>NaN</td>\n",
              "      <td>21</td>\n",
              "      <td>ASP.NET Site Maps</td>\n",
              "      <td>&lt;p&gt;Has anyone got experience creating &lt;strong&gt;...</td>\n",
              "      <td>sql</td>\n",
              "      <td>83.0</td>\n",
              "      <td>Zack Peterson</td>\n",
              "      <td>31853.0</td>\n",
              "      <td>1966.0</td>\n",
              "      <td>63.0</td>\n",
              "      <td>2886.0</td>\n",
              "    </tr>\n",
              "    <tr>\n",
              "      <th>1</th>\n",
              "      <td>1970</td>\n",
              "      <td>116.0</td>\n",
              "      <td>2008-08-05T06:39:31Z</td>\n",
              "      <td>NaN</td>\n",
              "      <td>10</td>\n",
              "      <td>What language do you use for PostgreSQL trigge...</td>\n",
              "      <td>&lt;p&gt;PostgreSQL is interesting in that it suppor...</td>\n",
              "      <td>sql</td>\n",
              "      <td>116.0</td>\n",
              "      <td>Mark Harrison</td>\n",
              "      <td>181436.0</td>\n",
              "      <td>2537.0</td>\n",
              "      <td>39.0</td>\n",
              "      <td>19386.0</td>\n",
              "    </tr>\n",
              "  </tbody>\n",
              "</table>\n",
              "</div>"
            ],
            "text/plain": [
              "    QId  OwnerUserId          CreationDate  ... up_votes  down_votes    views\n",
              "0   120         83.0  2008-08-01T15:50:08Z  ...   1966.0        63.0   2886.0\n",
              "1  1970        116.0  2008-08-05T06:39:31Z  ...   2537.0        39.0  19386.0\n",
              "\n",
              "[2 rows x 14 columns]"
            ]
          },
          "metadata": {
            "tags": []
          },
          "execution_count": 16
        }
      ]
    },
    {
      "cell_type": "code",
      "metadata": {
        "colab": {
          "base_uri": "https://localhost:8080/"
        },
        "id": "7YRWIGoUrNT0",
        "outputId": "cb54b9e8-cd2b-411c-d449-9eccbdbb9b2a"
      },
      "source": [
        "inp_QTU_DataSc.info()"
      ],
      "execution_count": null,
      "outputs": [
        {
          "output_type": "stream",
          "text": [
            "<class 'pandas.core.frame.DataFrame'>\n",
            "Int64Index: 133660 entries, 0 to 133659\n",
            "Data columns (total 14 columns):\n",
            " #   Column        Non-Null Count   Dtype  \n",
            "---  ------        --------------   -----  \n",
            " 0   QId           133660 non-null  int64  \n",
            " 1   OwnerUserId   132280 non-null  float64\n",
            " 2   CreationDate  133660 non-null  object \n",
            " 3   ClosedDate    7063 non-null    object \n",
            " 4   Score         133660 non-null  int64  \n",
            " 5   Title         133660 non-null  object \n",
            " 6   Body          133660 non-null  object \n",
            " 7   Tag           133660 non-null  object \n",
            " 8   id            53617 non-null   float64\n",
            " 9   display_name  53608 non-null   object \n",
            " 10  reputation    53617 non-null   float64\n",
            " 11  up_votes      53617 non-null   float64\n",
            " 12  down_votes    53617 non-null   float64\n",
            " 13  views         53617 non-null   float64\n",
            "dtypes: float64(6), int64(2), object(6)\n",
            "memory usage: 15.3+ MB\n"
          ],
          "name": "stdout"
        }
      ]
    },
    {
      "cell_type": "code",
      "metadata": {
        "id": "8VOF5yGDVbQo"
      },
      "source": [
        "DataSc_Usr = inp_QTU_DataSc.groupby('Tag').apply(lambda x: list(x['display_name'])).reset_index() ## Getting the relevant user list created from the merged dataframe based on the Tag"
      ],
      "execution_count": null,
      "outputs": []
    },
    {
      "cell_type": "code",
      "metadata": {
        "colab": {
          "base_uri": "https://localhost:8080/"
        },
        "id": "pGlJ-I92WEyE",
        "outputId": "957cb405-771a-49fc-d48d-468e47e827ca"
      },
      "source": [
        "type(DataSc_Usr)"
      ],
      "execution_count": null,
      "outputs": [
        {
          "output_type": "execute_result",
          "data": {
            "text/plain": [
              "pandas.core.frame.DataFrame"
            ]
          },
          "metadata": {
            "tags": []
          },
          "execution_count": 19
        }
      ]
    },
    {
      "cell_type": "code",
      "metadata": {
        "colab": {
          "base_uri": "https://localhost:8080/",
          "height": 225
        },
        "id": "q23jYrrkmU0U",
        "outputId": "7478ce50-62ec-47eb-af47-7915916957a1"
      },
      "source": [
        "DataSc_Usr.rename(columns = {0:'UserName'}, inplace=True) ## Renaming the column so this DF can be used to find the users relavant to the tag.\r\n",
        "DataSc_Usr"
      ],
      "execution_count": null,
      "outputs": [
        {
          "output_type": "execute_result",
          "data": {
            "text/html": [
              "<div>\n",
              "<style scoped>\n",
              "    .dataframe tbody tr th:only-of-type {\n",
              "        vertical-align: middle;\n",
              "    }\n",
              "\n",
              "    .dataframe tbody tr th {\n",
              "        vertical-align: top;\n",
              "    }\n",
              "\n",
              "    .dataframe thead th {\n",
              "        text-align: right;\n",
              "    }\n",
              "</style>\n",
              "<table border=\"1\" class=\"dataframe\">\n",
              "  <thead>\n",
              "    <tr style=\"text-align: right;\">\n",
              "      <th></th>\n",
              "      <th>Tag</th>\n",
              "      <th>UserName</th>\n",
              "    </tr>\n",
              "  </thead>\n",
              "  <tbody>\n",
              "    <tr>\n",
              "      <th>0</th>\n",
              "      <td>excel</td>\n",
              "      <td>[nan, JonnyGold, Lipis, nan, Jon Cahill, Oli, ...</td>\n",
              "    </tr>\n",
              "    <tr>\n",
              "      <th>1</th>\n",
              "      <td>matlab</td>\n",
              "      <td>[mana, nan, nan, nan, Jon Norton, Kip, bastibe...</td>\n",
              "    </tr>\n",
              "    <tr>\n",
              "      <th>2</th>\n",
              "      <td>python</td>\n",
              "      <td>[jkp, PabloG, dbr, jeremiahd, Tyler, Sam McAfe...</td>\n",
              "    </tr>\n",
              "    <tr>\n",
              "      <th>3</th>\n",
              "      <td>r</td>\n",
              "      <td>[Quamis, nan, nan, Christopher DuBois, Lauryna...</td>\n",
              "    </tr>\n",
              "    <tr>\n",
              "      <th>4</th>\n",
              "      <td>sas</td>\n",
              "      <td>[nan, Jay Stevens, CuppM, Allan Bowe, l--'''''...</td>\n",
              "    </tr>\n",
              "    <tr>\n",
              "      <th>5</th>\n",
              "      <td>sql</td>\n",
              "      <td>[Zack Peterson, Mark Harrison, GateKiller, Gat...</td>\n",
              "    </tr>\n",
              "  </tbody>\n",
              "</table>\n",
              "</div>"
            ],
            "text/plain": [
              "      Tag                                           UserName\n",
              "0   excel  [nan, JonnyGold, Lipis, nan, Jon Cahill, Oli, ...\n",
              "1  matlab  [mana, nan, nan, nan, Jon Norton, Kip, bastibe...\n",
              "2  python  [jkp, PabloG, dbr, jeremiahd, Tyler, Sam McAfe...\n",
              "3       r  [Quamis, nan, nan, Christopher DuBois, Lauryna...\n",
              "4     sas  [nan, Jay Stevens, CuppM, Allan Bowe, l--'''''...\n",
              "5     sql  [Zack Peterson, Mark Harrison, GateKiller, Gat..."
            ]
          },
          "metadata": {
            "tags": []
          },
          "execution_count": 20
        }
      ]
    },
    {
      "cell_type": "code",
      "metadata": {
        "colab": {
          "base_uri": "https://localhost:8080/"
        },
        "id": "2oG3hJ6EXL3U",
        "outputId": "f2dc9c42-f64a-4d8e-c478-f06059f390d7"
      },
      "source": [
        "#### Stack Overflow should come up with the expected approximate time to get it answered.\r\n",
        "\r\n",
        "inp_A.info()"
      ],
      "execution_count": null,
      "outputs": [
        {
          "output_type": "stream",
          "text": [
            "<class 'pandas.core.frame.DataFrame'>\n",
            "RangeIndex: 2014516 entries, 0 to 2014515\n",
            "Data columns (total 6 columns):\n",
            " #   Column        Dtype  \n",
            "---  ------        -----  \n",
            " 0   Id            int64  \n",
            " 1   OwnerUserId   float64\n",
            " 2   CreationDate  object \n",
            " 3   ParentId      int64  \n",
            " 4   Score         int64  \n",
            " 5   Body          object \n",
            "dtypes: float64(1), int64(3), object(2)\n",
            "memory usage: 92.2+ MB\n"
          ],
          "name": "stdout"
        }
      ]
    },
    {
      "cell_type": "code",
      "metadata": {
        "colab": {
          "base_uri": "https://localhost:8080/"
        },
        "id": "eNF9Rmwuvxgq",
        "outputId": "5ca7a01c-b78d-462c-bab6-d31e2fc1c393"
      },
      "source": [
        "inp_A.count()"
      ],
      "execution_count": null,
      "outputs": [
        {
          "output_type": "execute_result",
          "data": {
            "text/plain": [
              "Id              2014516\n",
              "OwnerUserId     2001316\n",
              "CreationDate    2014516\n",
              "ParentId        2014516\n",
              "Score           2014516\n",
              "Body            2014516\n",
              "dtype: int64"
            ]
          },
          "metadata": {
            "tags": []
          },
          "execution_count": 22
        }
      ]
    },
    {
      "cell_type": "code",
      "metadata": {
        "colab": {
          "base_uri": "https://localhost:8080/",
          "height": 195
        },
        "id": "SWIs7vNWwPGK",
        "outputId": "a5ec3de0-78d3-425d-fc6f-dbfcf7bc71d1"
      },
      "source": [
        "## Get the minimum Creation Date based on the ParentId\r\n",
        "inp_A['CreationDate_R'] = pd.to_datetime(inp_A['CreationDate'])\r\n",
        "inp_A.drop(['CreationDate'], axis=1, inplace=True)\r\n",
        "inp_A.head()"
      ],
      "execution_count": null,
      "outputs": [
        {
          "output_type": "execute_result",
          "data": {
            "text/html": [
              "<div>\n",
              "<style scoped>\n",
              "    .dataframe tbody tr th:only-of-type {\n",
              "        vertical-align: middle;\n",
              "    }\n",
              "\n",
              "    .dataframe tbody tr th {\n",
              "        vertical-align: top;\n",
              "    }\n",
              "\n",
              "    .dataframe thead th {\n",
              "        text-align: right;\n",
              "    }\n",
              "</style>\n",
              "<table border=\"1\" class=\"dataframe\">\n",
              "  <thead>\n",
              "    <tr style=\"text-align: right;\">\n",
              "      <th></th>\n",
              "      <th>Id</th>\n",
              "      <th>OwnerUserId</th>\n",
              "      <th>ParentId</th>\n",
              "      <th>Score</th>\n",
              "      <th>Body</th>\n",
              "      <th>CreationDate_R</th>\n",
              "    </tr>\n",
              "  </thead>\n",
              "  <tbody>\n",
              "    <tr>\n",
              "      <th>0</th>\n",
              "      <td>92</td>\n",
              "      <td>61.0</td>\n",
              "      <td>90</td>\n",
              "      <td>13</td>\n",
              "      <td>&lt;p&gt;&lt;a href=\"http://svnbook.red-bean.com/\"&gt;Vers...</td>\n",
              "      <td>2008-08-01 14:45:37+00:00</td>\n",
              "    </tr>\n",
              "    <tr>\n",
              "      <th>1</th>\n",
              "      <td>124</td>\n",
              "      <td>26.0</td>\n",
              "      <td>80</td>\n",
              "      <td>12</td>\n",
              "      <td>&lt;p&gt;I wound up using this. It is a kind of a ha...</td>\n",
              "      <td>2008-08-01 16:09:47+00:00</td>\n",
              "    </tr>\n",
              "    <tr>\n",
              "      <th>2</th>\n",
              "      <td>199</td>\n",
              "      <td>50.0</td>\n",
              "      <td>180</td>\n",
              "      <td>1</td>\n",
              "      <td>&lt;p&gt;I've read somewhere the human eye can't dis...</td>\n",
              "      <td>2008-08-01 19:36:46+00:00</td>\n",
              "    </tr>\n",
              "    <tr>\n",
              "      <th>3</th>\n",
              "      <td>269</td>\n",
              "      <td>91.0</td>\n",
              "      <td>260</td>\n",
              "      <td>4</td>\n",
              "      <td>&lt;p&gt;Yes, I thought about that, but I soon figur...</td>\n",
              "      <td>2008-08-01 23:49:57+00:00</td>\n",
              "    </tr>\n",
              "    <tr>\n",
              "      <th>4</th>\n",
              "      <td>307</td>\n",
              "      <td>49.0</td>\n",
              "      <td>260</td>\n",
              "      <td>28</td>\n",
              "      <td>&lt;p&gt;&lt;a href=\"http://www.codeproject.com/Article...</td>\n",
              "      <td>2008-08-02 01:49:46+00:00</td>\n",
              "    </tr>\n",
              "  </tbody>\n",
              "</table>\n",
              "</div>"
            ],
            "text/plain": [
              "    Id  ...            CreationDate_R\n",
              "0   92  ... 2008-08-01 14:45:37+00:00\n",
              "1  124  ... 2008-08-01 16:09:47+00:00\n",
              "2  199  ... 2008-08-01 19:36:46+00:00\n",
              "3  269  ... 2008-08-01 23:49:57+00:00\n",
              "4  307  ... 2008-08-02 01:49:46+00:00\n",
              "\n",
              "[5 rows x 6 columns]"
            ]
          },
          "metadata": {
            "tags": []
          },
          "execution_count": 23
        }
      ]
    },
    {
      "cell_type": "code",
      "metadata": {
        "id": "cH75viFGVrhj"
      },
      "source": [
        "inp_A_Min=inp_A.groupby('ParentId').apply(lambda x: np.min(x['CreationDate_R'])).reset_index() ## Create data frame with the first response against each of the Question"
      ],
      "execution_count": null,
      "outputs": []
    },
    {
      "cell_type": "code",
      "metadata": {
        "colab": {
          "base_uri": "https://localhost:8080/",
          "height": 195
        },
        "id": "F-YcyeMSVryc",
        "outputId": "c93814af-826b-4964-8143-f357267a8f5e"
      },
      "source": [
        "inp_A_Min.rename(columns = {0:'First Response'}, inplace=True) \r\n",
        "inp_A_Min.head()"
      ],
      "execution_count": null,
      "outputs": [
        {
          "output_type": "execute_result",
          "data": {
            "text/html": [
              "<div>\n",
              "<style scoped>\n",
              "    .dataframe tbody tr th:only-of-type {\n",
              "        vertical-align: middle;\n",
              "    }\n",
              "\n",
              "    .dataframe tbody tr th {\n",
              "        vertical-align: top;\n",
              "    }\n",
              "\n",
              "    .dataframe thead th {\n",
              "        text-align: right;\n",
              "    }\n",
              "</style>\n",
              "<table border=\"1\" class=\"dataframe\">\n",
              "  <thead>\n",
              "    <tr style=\"text-align: right;\">\n",
              "      <th></th>\n",
              "      <th>ParentId</th>\n",
              "      <th>First Response</th>\n",
              "    </tr>\n",
              "  </thead>\n",
              "  <tbody>\n",
              "    <tr>\n",
              "      <th>0</th>\n",
              "      <td>80</td>\n",
              "      <td>2008-08-01 16:09:47+00:00</td>\n",
              "    </tr>\n",
              "    <tr>\n",
              "      <th>1</th>\n",
              "      <td>90</td>\n",
              "      <td>2008-08-01 14:45:37+00:00</td>\n",
              "    </tr>\n",
              "    <tr>\n",
              "      <th>2</th>\n",
              "      <td>120</td>\n",
              "      <td>2008-09-23 22:41:11+00:00</td>\n",
              "    </tr>\n",
              "    <tr>\n",
              "      <th>3</th>\n",
              "      <td>180</td>\n",
              "      <td>2008-08-01 19:36:46+00:00</td>\n",
              "    </tr>\n",
              "    <tr>\n",
              "      <th>4</th>\n",
              "      <td>260</td>\n",
              "      <td>2008-08-01 23:49:57+00:00</td>\n",
              "    </tr>\n",
              "  </tbody>\n",
              "</table>\n",
              "</div>"
            ],
            "text/plain": [
              "   ParentId            First Response\n",
              "0        80 2008-08-01 16:09:47+00:00\n",
              "1        90 2008-08-01 14:45:37+00:00\n",
              "2       120 2008-09-23 22:41:11+00:00\n",
              "3       180 2008-08-01 19:36:46+00:00\n",
              "4       260 2008-08-01 23:49:57+00:00"
            ]
          },
          "metadata": {
            "tags": []
          },
          "execution_count": 25
        }
      ]
    },
    {
      "cell_type": "code",
      "metadata": {
        "id": "dZpa1GFhuc9B"
      },
      "source": [
        "inp_QTA_DataSc = pd.merge(left=inp_QT_DataSc,right=inp_A_Min, how='left', left_on='QId', right_on='ParentId') ## Merging the Answer data to the Question-Tag merged dataset"
      ],
      "execution_count": null,
      "outputs": []
    },
    {
      "cell_type": "code",
      "metadata": {
        "colab": {
          "base_uri": "https://localhost:8080/",
          "height": 140
        },
        "id": "0YMpcerZTRJs",
        "outputId": "3bb70993-d15d-4b2a-9961-8bc63d49f494"
      },
      "source": [
        "inp_QTA_DataSc.head(2)"
      ],
      "execution_count": null,
      "outputs": [
        {
          "output_type": "execute_result",
          "data": {
            "text/html": [
              "<div>\n",
              "<style scoped>\n",
              "    .dataframe tbody tr th:only-of-type {\n",
              "        vertical-align: middle;\n",
              "    }\n",
              "\n",
              "    .dataframe tbody tr th {\n",
              "        vertical-align: top;\n",
              "    }\n",
              "\n",
              "    .dataframe thead th {\n",
              "        text-align: right;\n",
              "    }\n",
              "</style>\n",
              "<table border=\"1\" class=\"dataframe\">\n",
              "  <thead>\n",
              "    <tr style=\"text-align: right;\">\n",
              "      <th></th>\n",
              "      <th>QId</th>\n",
              "      <th>OwnerUserId</th>\n",
              "      <th>CreationDate</th>\n",
              "      <th>ClosedDate</th>\n",
              "      <th>Score</th>\n",
              "      <th>Title</th>\n",
              "      <th>Body</th>\n",
              "      <th>Tag</th>\n",
              "      <th>ParentId</th>\n",
              "      <th>First Response</th>\n",
              "    </tr>\n",
              "  </thead>\n",
              "  <tbody>\n",
              "    <tr>\n",
              "      <th>0</th>\n",
              "      <td>120</td>\n",
              "      <td>83.0</td>\n",
              "      <td>2008-08-01T15:50:08Z</td>\n",
              "      <td>NaN</td>\n",
              "      <td>21</td>\n",
              "      <td>ASP.NET Site Maps</td>\n",
              "      <td>&lt;p&gt;Has anyone got experience creating &lt;strong&gt;...</td>\n",
              "      <td>sql</td>\n",
              "      <td>120.0</td>\n",
              "      <td>2008-09-23 22:41:11+00:00</td>\n",
              "    </tr>\n",
              "    <tr>\n",
              "      <th>1</th>\n",
              "      <td>1970</td>\n",
              "      <td>116.0</td>\n",
              "      <td>2008-08-05T06:39:31Z</td>\n",
              "      <td>NaN</td>\n",
              "      <td>10</td>\n",
              "      <td>What language do you use for PostgreSQL trigge...</td>\n",
              "      <td>&lt;p&gt;PostgreSQL is interesting in that it suppor...</td>\n",
              "      <td>sql</td>\n",
              "      <td>1970.0</td>\n",
              "      <td>2008-08-05 06:43:30+00:00</td>\n",
              "    </tr>\n",
              "  </tbody>\n",
              "</table>\n",
              "</div>"
            ],
            "text/plain": [
              "    QId  OwnerUserId  ... ParentId            First Response\n",
              "0   120         83.0  ...    120.0 2008-09-23 22:41:11+00:00\n",
              "1  1970        116.0  ...   1970.0 2008-08-05 06:43:30+00:00\n",
              "\n",
              "[2 rows x 10 columns]"
            ]
          },
          "metadata": {
            "tags": []
          },
          "execution_count": 27
        }
      ]
    },
    {
      "cell_type": "code",
      "metadata": {
        "id": "2zVxcmfNUnzG"
      },
      "source": [
        "#Converting to Datetime from object type \r\n",
        "inp_QTA_DataSc['CreationDate_Q'] = pd.to_datetime(inp_QTA_DataSc['CreationDate'])\r\n"
      ],
      "execution_count": null,
      "outputs": []
    },
    {
      "cell_type": "code",
      "metadata": {
        "colab": {
          "base_uri": "https://localhost:8080/"
        },
        "id": "erYOxs5Ajryt",
        "outputId": "77be5bd4-1477-47aa-e23c-01d2c63bdee3"
      },
      "source": [
        "#Converting to Datetime from object type\r\n",
        "inp_QTA_DataSc.info()"
      ],
      "execution_count": null,
      "outputs": [
        {
          "output_type": "stream",
          "text": [
            "<class 'pandas.core.frame.DataFrame'>\n",
            "Int64Index: 133660 entries, 0 to 133659\n",
            "Data columns (total 11 columns):\n",
            " #   Column          Non-Null Count   Dtype              \n",
            "---  ------          --------------   -----              \n",
            " 0   QId             133660 non-null  int64              \n",
            " 1   OwnerUserId     132280 non-null  float64            \n",
            " 2   CreationDate    133660 non-null  object             \n",
            " 3   ClosedDate      7063 non-null    object             \n",
            " 4   Score           133660 non-null  int64              \n",
            " 5   Title           133660 non-null  object             \n",
            " 6   Body            133660 non-null  object             \n",
            " 7   Tag             133660 non-null  object             \n",
            " 8   ParentId        118882 non-null  float64            \n",
            " 9   First Response  118882 non-null  datetime64[ns, UTC]\n",
            " 10  CreationDate_Q  133660 non-null  datetime64[ns, UTC]\n",
            "dtypes: datetime64[ns, UTC](2), float64(2), int64(2), object(5)\n",
            "memory usage: 12.2+ MB\n"
          ],
          "name": "stdout"
        }
      ]
    },
    {
      "cell_type": "code",
      "metadata": {
        "colab": {
          "base_uri": "https://localhost:8080/",
          "height": 279
        },
        "id": "or-DmBQqwC7c",
        "outputId": "29462c8b-be28-4cc4-a935-c1e48b17a509"
      },
      "source": [
        "#Dropping redundant columns\r\n",
        "inp_QTA_DataSc.drop(['CreationDate'], axis=1,inplace=True)\r\n",
        "inp_QTA_DataSc.head()"
      ],
      "execution_count": null,
      "outputs": [
        {
          "output_type": "execute_result",
          "data": {
            "text/html": [
              "<div>\n",
              "<style scoped>\n",
              "    .dataframe tbody tr th:only-of-type {\n",
              "        vertical-align: middle;\n",
              "    }\n",
              "\n",
              "    .dataframe tbody tr th {\n",
              "        vertical-align: top;\n",
              "    }\n",
              "\n",
              "    .dataframe thead th {\n",
              "        text-align: right;\n",
              "    }\n",
              "</style>\n",
              "<table border=\"1\" class=\"dataframe\">\n",
              "  <thead>\n",
              "    <tr style=\"text-align: right;\">\n",
              "      <th></th>\n",
              "      <th>QId</th>\n",
              "      <th>OwnerUserId</th>\n",
              "      <th>ClosedDate</th>\n",
              "      <th>Score</th>\n",
              "      <th>Title</th>\n",
              "      <th>Body</th>\n",
              "      <th>Tag</th>\n",
              "      <th>ParentId</th>\n",
              "      <th>First Response</th>\n",
              "      <th>CreationDate_Q</th>\n",
              "    </tr>\n",
              "  </thead>\n",
              "  <tbody>\n",
              "    <tr>\n",
              "      <th>0</th>\n",
              "      <td>120</td>\n",
              "      <td>83.0</td>\n",
              "      <td>NaN</td>\n",
              "      <td>21</td>\n",
              "      <td>ASP.NET Site Maps</td>\n",
              "      <td>&lt;p&gt;Has anyone got experience creating &lt;strong&gt;...</td>\n",
              "      <td>sql</td>\n",
              "      <td>120.0</td>\n",
              "      <td>2008-09-23 22:41:11+00:00</td>\n",
              "      <td>2008-08-01 15:50:08+00:00</td>\n",
              "    </tr>\n",
              "    <tr>\n",
              "      <th>1</th>\n",
              "      <td>1970</td>\n",
              "      <td>116.0</td>\n",
              "      <td>NaN</td>\n",
              "      <td>10</td>\n",
              "      <td>What language do you use for PostgreSQL trigge...</td>\n",
              "      <td>&lt;p&gt;PostgreSQL is interesting in that it suppor...</td>\n",
              "      <td>sql</td>\n",
              "      <td>1970.0</td>\n",
              "      <td>2008-08-05 06:43:30+00:00</td>\n",
              "      <td>2008-08-05 06:39:31+00:00</td>\n",
              "    </tr>\n",
              "    <tr>\n",
              "      <th>2</th>\n",
              "      <td>2120</td>\n",
              "      <td>383.0</td>\n",
              "      <td>NaN</td>\n",
              "      <td>77</td>\n",
              "      <td>Convert HashBytes to VarChar</td>\n",
              "      <td>&lt;p&gt;I want to get the MD5 Hash of a string valu...</td>\n",
              "      <td>sql</td>\n",
              "      <td>2120.0</td>\n",
              "      <td>2008-08-05 14:26:41+00:00</td>\n",
              "      <td>2008-08-05 11:49:11+00:00</td>\n",
              "    </tr>\n",
              "    <tr>\n",
              "      <th>3</th>\n",
              "      <td>2840</td>\n",
              "      <td>383.0</td>\n",
              "      <td>NaN</td>\n",
              "      <td>32</td>\n",
              "      <td>Paging SQL Server 2005 Results</td>\n",
              "      <td>&lt;p&gt;How do I page results in SQL Server 2005?&lt;/...</td>\n",
              "      <td>sql</td>\n",
              "      <td>2840.0</td>\n",
              "      <td>2008-08-05 20:59:21+00:00</td>\n",
              "      <td>2008-08-05 20:57:00+00:00</td>\n",
              "    </tr>\n",
              "    <tr>\n",
              "      <th>4</th>\n",
              "      <td>4110</td>\n",
              "      <td>369.0</td>\n",
              "      <td>2014-12-30T11:43:01Z</td>\n",
              "      <td>7</td>\n",
              "      <td>What program can I use to generate diagrams of...</td>\n",
              "      <td>&lt;p&gt;I've been tasked with redesigning part of a...</td>\n",
              "      <td>sql</td>\n",
              "      <td>4110.0</td>\n",
              "      <td>2008-08-06 23:29:21+00:00</td>\n",
              "      <td>2008-08-06 23:19:50+00:00</td>\n",
              "    </tr>\n",
              "  </tbody>\n",
              "</table>\n",
              "</div>"
            ],
            "text/plain": [
              "    QId  OwnerUserId  ...            First Response            CreationDate_Q\n",
              "0   120         83.0  ... 2008-09-23 22:41:11+00:00 2008-08-01 15:50:08+00:00\n",
              "1  1970        116.0  ... 2008-08-05 06:43:30+00:00 2008-08-05 06:39:31+00:00\n",
              "2  2120        383.0  ... 2008-08-05 14:26:41+00:00 2008-08-05 11:49:11+00:00\n",
              "3  2840        383.0  ... 2008-08-05 20:59:21+00:00 2008-08-05 20:57:00+00:00\n",
              "4  4110        369.0  ... 2008-08-06 23:29:21+00:00 2008-08-06 23:19:50+00:00\n",
              "\n",
              "[5 rows x 10 columns]"
            ]
          },
          "metadata": {
            "tags": []
          },
          "execution_count": 30
        }
      ]
    },
    {
      "cell_type": "code",
      "metadata": {
        "id": "R6q0a1XQzbTo"
      },
      "source": [
        ""
      ],
      "execution_count": null,
      "outputs": []
    },
    {
      "cell_type": "code",
      "metadata": {
        "id": "5bGImEivh_rR"
      },
      "source": [
        "DataSc_Resp = inp_QTA_DataSc.groupby('Tag').apply(lambda x : np.mean(x['First Response']-x['CreationDate_Q'])).reset_index() ## Calculating mean of response time and capturing into a DF for giving a prediction to the user\r\n"
      ],
      "execution_count": null,
      "outputs": []
    },
    {
      "cell_type": "code",
      "metadata": {
        "colab": {
          "base_uri": "https://localhost:8080/",
          "height": 225
        },
        "id": "McUvmYlFSstY",
        "outputId": "1eee9378-4a89-4d58-b44a-2369cb6a15f7"
      },
      "source": [
        "DataSc_Resp.rename(columns = {0:'Average Response Duration'}, inplace=True) ## Renaming the Column head\r\n",
        "DataSc_Resp    ## This df is to guide the average response time for a category of question"
      ],
      "execution_count": null,
      "outputs": [
        {
          "output_type": "execute_result",
          "data": {
            "text/html": [
              "<div>\n",
              "<style scoped>\n",
              "    .dataframe tbody tr th:only-of-type {\n",
              "        vertical-align: middle;\n",
              "    }\n",
              "\n",
              "    .dataframe tbody tr th {\n",
              "        vertical-align: top;\n",
              "    }\n",
              "\n",
              "    .dataframe thead th {\n",
              "        text-align: right;\n",
              "    }\n",
              "</style>\n",
              "<table border=\"1\" class=\"dataframe\">\n",
              "  <thead>\n",
              "    <tr style=\"text-align: right;\">\n",
              "      <th></th>\n",
              "      <th>Tag</th>\n",
              "      <th>Average Response Duration</th>\n",
              "    </tr>\n",
              "  </thead>\n",
              "  <tbody>\n",
              "    <tr>\n",
              "      <th>0</th>\n",
              "      <td>excel</td>\n",
              "      <td>9 days 18:26:27.099932401</td>\n",
              "    </tr>\n",
              "    <tr>\n",
              "      <th>1</th>\n",
              "      <td>matlab</td>\n",
              "      <td>8 days 03:13:07.852680989</td>\n",
              "    </tr>\n",
              "    <tr>\n",
              "      <th>2</th>\n",
              "      <td>python</td>\n",
              "      <td>8 days 21:06:52.760695143</td>\n",
              "    </tr>\n",
              "    <tr>\n",
              "      <th>3</th>\n",
              "      <td>r</td>\n",
              "      <td>8 days 17:52:17.081394471</td>\n",
              "    </tr>\n",
              "    <tr>\n",
              "      <th>4</th>\n",
              "      <td>sas</td>\n",
              "      <td>4 days 10:16:54.291277258</td>\n",
              "    </tr>\n",
              "    <tr>\n",
              "      <th>5</th>\n",
              "      <td>sql</td>\n",
              "      <td>3 days 16:36:53.321271016</td>\n",
              "    </tr>\n",
              "  </tbody>\n",
              "</table>\n",
              "</div>"
            ],
            "text/plain": [
              "      Tag Average Response Duration\n",
              "0   excel 9 days 18:26:27.099932401\n",
              "1  matlab 8 days 03:13:07.852680989\n",
              "2  python 8 days 21:06:52.760695143\n",
              "3       r 8 days 17:52:17.081394471\n",
              "4     sas 4 days 10:16:54.291277258\n",
              "5     sql 3 days 16:36:53.321271016"
            ]
          },
          "metadata": {
            "tags": []
          },
          "execution_count": 32
        }
      ]
    },
    {
      "cell_type": "code",
      "metadata": {
        "id": "HxZxBjIjhW63"
      },
      "source": [
        "DataSc_Usr_Resp = pd.merge(left=DataSc_Usr,right = DataSc_Resp, how='left', left_on='Tag', right_on='Tag')\r\n"
      ],
      "execution_count": null,
      "outputs": []
    },
    {
      "cell_type": "code",
      "metadata": {
        "colab": {
          "base_uri": "https://localhost:8080/",
          "height": 225
        },
        "id": "pthYdgY4oXWO",
        "outputId": "071068cb-b89f-4aa3-aa9a-9fd9912cff83"
      },
      "source": [
        "DataSc_Usr_Resp ## Merged DF for relevant user group and Response time. "
      ],
      "execution_count": null,
      "outputs": [
        {
          "output_type": "execute_result",
          "data": {
            "text/html": [
              "<div>\n",
              "<style scoped>\n",
              "    .dataframe tbody tr th:only-of-type {\n",
              "        vertical-align: middle;\n",
              "    }\n",
              "\n",
              "    .dataframe tbody tr th {\n",
              "        vertical-align: top;\n",
              "    }\n",
              "\n",
              "    .dataframe thead th {\n",
              "        text-align: right;\n",
              "    }\n",
              "</style>\n",
              "<table border=\"1\" class=\"dataframe\">\n",
              "  <thead>\n",
              "    <tr style=\"text-align: right;\">\n",
              "      <th></th>\n",
              "      <th>Tag</th>\n",
              "      <th>UserName</th>\n",
              "      <th>Average Response Duration</th>\n",
              "    </tr>\n",
              "  </thead>\n",
              "  <tbody>\n",
              "    <tr>\n",
              "      <th>0</th>\n",
              "      <td>excel</td>\n",
              "      <td>[nan, JonnyGold, Lipis, nan, Jon Cahill, Oli, ...</td>\n",
              "      <td>9 days 18:26:27.099932401</td>\n",
              "    </tr>\n",
              "    <tr>\n",
              "      <th>1</th>\n",
              "      <td>matlab</td>\n",
              "      <td>[mana, nan, nan, nan, Jon Norton, Kip, bastibe...</td>\n",
              "      <td>8 days 03:13:07.852680989</td>\n",
              "    </tr>\n",
              "    <tr>\n",
              "      <th>2</th>\n",
              "      <td>python</td>\n",
              "      <td>[jkp, PabloG, dbr, jeremiahd, Tyler, Sam McAfe...</td>\n",
              "      <td>8 days 21:06:52.760695143</td>\n",
              "    </tr>\n",
              "    <tr>\n",
              "      <th>3</th>\n",
              "      <td>r</td>\n",
              "      <td>[Quamis, nan, nan, Christopher DuBois, Lauryna...</td>\n",
              "      <td>8 days 17:52:17.081394471</td>\n",
              "    </tr>\n",
              "    <tr>\n",
              "      <th>4</th>\n",
              "      <td>sas</td>\n",
              "      <td>[nan, Jay Stevens, CuppM, Allan Bowe, l--'''''...</td>\n",
              "      <td>4 days 10:16:54.291277258</td>\n",
              "    </tr>\n",
              "    <tr>\n",
              "      <th>5</th>\n",
              "      <td>sql</td>\n",
              "      <td>[Zack Peterson, Mark Harrison, GateKiller, Gat...</td>\n",
              "      <td>3 days 16:36:53.321271016</td>\n",
              "    </tr>\n",
              "  </tbody>\n",
              "</table>\n",
              "</div>"
            ],
            "text/plain": [
              "      Tag  ... Average Response Duration\n",
              "0   excel  ... 9 days 18:26:27.099932401\n",
              "1  matlab  ... 8 days 03:13:07.852680989\n",
              "2  python  ... 8 days 21:06:52.760695143\n",
              "3       r  ... 8 days 17:52:17.081394471\n",
              "4     sas  ... 4 days 10:16:54.291277258\n",
              "5     sql  ... 3 days 16:36:53.321271016\n",
              "\n",
              "[6 rows x 3 columns]"
            ]
          },
          "metadata": {
            "tags": []
          },
          "execution_count": 34
        }
      ]
    },
    {
      "cell_type": "code",
      "metadata": {
        "colab": {
          "base_uri": "https://localhost:8080/",
          "height": 265
        },
        "id": "ren6FExgomMd",
        "outputId": "b0461899-35be-43ef-b868-1a1dd8a05b87"
      },
      "source": [
        "## Univariate Analysis\r\n",
        "inp_QTA_DataSc.Tag.value_counts(normalize=True).plot.barh()\r\n",
        "plt.show()\r\n"
      ],
      "execution_count": null,
      "outputs": [
        {
          "output_type": "display_data",
          "data": {
            "image/png": "[encoded data removed]",
            "text/plain": [
              "<Figure size 432x288 with 1 Axes>"
            ]
          },
          "metadata": {
            "tags": [],
            "needs_background": "light"
          }
        }
      ]
    },
    {
      "cell_type": "code",
      "metadata": {
        "colab": {
          "base_uri": "https://localhost:8080/",
          "height": 333
        },
        "id": "64Pu5X6fv_na",
        "outputId": "8c6f3559-2c81-4ab4-82df-23367e692d6b"
      },
      "source": [
        "#### Finding Outliers.\r\n",
        "sns.boxenplot(inp_Uunq.reputation)\r\n",
        "plt.show()"
      ],
      "execution_count": null,
      "outputs": [
        {
          "output_type": "stream",
          "text": [
            "/usr/local/lib/python3.7/dist-packages/seaborn/_decorators.py:43: FutureWarning: Pass the following variable as a keyword arg: x. From version 0.12, the only valid positional argument will be `data`, and passing other arguments without an explicit keyword will result in an error or misinterpretation.\n",
            "  FutureWarning\n"
          ],
          "name": "stderr"
        },
        {
          "output_type": "display_data",
          "data": {
            "image/png": "[encoded data removed]",
            "text/plain": [
              "<Figure size 432x288 with 1 Axes>"
            ]
          },
          "metadata": {
            "tags": [],
            "needs_background": "light"
          }
        }
      ]
    },
    {
      "cell_type": "code",
      "metadata": {
        "colab": {
          "base_uri": "https://localhost:8080/",
          "height": 333
        },
        "id": "H4stE4Miy9H3",
        "outputId": "8bf4ec76-8710-4012-d165-d43ca0111490"
      },
      "source": [
        "sns.boxenplot(inp_Uunq.views)\r\n",
        "plt.show()"
      ],
      "execution_count": null,
      "outputs": [
        {
          "output_type": "stream",
          "text": [
            "/usr/local/lib/python3.7/dist-packages/seaborn/_decorators.py:43: FutureWarning: Pass the following variable as a keyword arg: x. From version 0.12, the only valid positional argument will be `data`, and passing other arguments without an explicit keyword will result in an error or misinterpretation.\n",
            "  FutureWarning\n"
          ],
          "name": "stderr"
        },
        {
          "output_type": "display_data",
          "data": {
            "image/png": "[encoded data removed]",
            "text/plain": [
              "<Figure size 432x288 with 1 Axes>"
            ]
          },
          "metadata": {
            "tags": [],
            "needs_background": "light"
          }
        }
      ]
    },
    {
      "cell_type": "code",
      "metadata": {
        "colab": {
          "base_uri": "https://localhost:8080/",
          "height": 290
        },
        "id": "3u3y1xV5zdj8",
        "outputId": "2a0e0aa9-5e9b-4271-8a2a-748834722efd"
      },
      "source": [
        "#Reputation vs. View box plot - bi variate\r\n",
        "\r\n",
        "sns.boxplot(data=inp_Uunq, x=\"reputation\", y=\"views\")\r\n",
        "plt.show()"
      ],
      "execution_count": null,
      "outputs": [
        {
          "output_type": "display_data",
          "data": {
            "image/png": "[encoded data removed]",
            "text/plain": [
              "<Figure size 432x288 with 1 Axes>"
            ]
          },
          "metadata": {
            "tags": [],
            "needs_background": "light"
          }
        }
      ]
    },
    {
      "cell_type": "code",
      "metadata": {
        "colab": {
          "base_uri": "https://localhost:8080/",
          "height": 265
        },
        "id": "1kYEHLqT44aF",
        "outputId": "c9d12eb9-c587-4451-e3e9-a490c5f3394e"
      },
      "source": [
        "## Scatter diagram to find relation between reputation and up_votes\r\n",
        "plt.scatter(inp_QTU_DataSc.reputation, inp_QTU_DataSc.up_votes)\r\n",
        "plt.show()"
      ],
      "execution_count": null,
      "outputs": [
        {
          "output_type": "display_data",
          "data": {
            "image/png": "[encoded data removed]",
            "text/plain": [
              "<Figure size 432x288 with 1 Axes>"
            ]
          },
          "metadata": {
            "tags": [],
            "needs_background": "light"
          }
        }
      ]
    },
    {
      "cell_type": "code",
      "metadata": {
        "id": "xtbg9RYx65gP"
      },
      "source": [
        "#plot the pair plot of reputation, views and up_votes in inp_Uunq dataframe.\r\n",
        "#sns.pairplot(data=inp_Uunq, vars=(\"reputation\",\"views\",\"up_votes\"))\r\n",
        "#plt.show()"
      ],
      "execution_count": null,
      "outputs": []
    },
    {
      "cell_type": "code",
      "metadata": {
        "colab": {
          "base_uri": "https://localhost:8080/",
          "height": 288
        },
        "id": "ldOsFOSG-scC",
        "outputId": "1db93d86-cc97-4c2d-b0a5-6b26b0cb63c9"
      },
      "source": [
        "## plot the correlation matrix of views, up_votes and down_votes in inp1 dataframe.\r\n",
        "inp_Uunq[[\"views\",\"up_votes\",\"down_votes\"]].corr()\r\n",
        "sns.heatmap(inp_Uunq[[\"views\",\"up_votes\",\"down_votes\"]].corr(), annot=True, cmap=\"Reds\")"
      ],
      "execution_count": null,
      "outputs": [
        {
          "output_type": "execute_result",
          "data": {
            "text/plain": [
              "<matplotlib.axes._subplots.AxesSubplot at 0x7f7b9f5e23d0>"
            ]
          },
          "metadata": {
            "tags": []
          },
          "execution_count": 41
        },
        {
          "output_type": "display_data",
          "data": {
            "image/png": "[encoded data removed]",
            "text/plain": [
              "<Figure size 432x288 with 2 Axes>"
            ]
          },
          "metadata": {
            "tags": [],
            "needs_background": "light"
          }
        }
      ]
    }
  ]
}